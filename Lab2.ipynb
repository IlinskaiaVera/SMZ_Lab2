{
  "nbformat": 4,
  "nbformat_minor": 0,
  "metadata": {
    "colab": {
      "provenance": []
    },
    "kernelspec": {
      "name": "python3",
      "display_name": "Python 3"
    },
    "language_info": {
      "name": "python"
    }
  },
  "cells": [
    {
      "cell_type": "code",
      "execution_count": 1,
      "metadata": {
        "id": "wnKKOfXIhl1J"
      },
      "outputs": [],
      "source": [
        "import torch\n",
        "import torch.nn.functional as F\n",
        "import numpy as np"
      ]
    },
    {
      "cell_type": "markdown",
      "source": [
        "###Реализация функции Convolution 3D"
      ],
      "metadata": {
        "id": "cUW9hJuokML4"
      }
    },
    {
      "cell_type": "code",
      "source": [
        "def Convolution3D(input_array, kernel_array, stride = 1, padding= 0):\n",
        "    #задание размеров тезора и ядра (ndim - число осей)\n",
        "    if input_array.ndim != 3 or kernel_array.ndim != 3:\n",
        "        raise ValueError(\"Нужен 3D формат!!!\")\n",
        "   #добавление padding (добавление нулей вокруг входной матрицы)\n",
        "    if padding > 0:\n",
        "        input_array = np.pad(input_array, padding, mode = 'constant')\n",
        "    #нахождение размеров результирующего тензора\n",
        "    output_height = (input_array.shape[0] - kernel_array.shape[0]) // stride + 1\n",
        "    output_width = (input_array.shape[1] - kernel_array.shape[1]) // stride + 1\n",
        "    output_depth = (input_array.shape[2] - kernel_array.shape[2]) // stride + 1\n",
        "    #создание результирующего тензора\n",
        "    output_array = np.zeros((output_height, output_width, output_depth))\n",
        "    #проход ядром по тензору\n",
        "    for i in range(output_depth):\n",
        "        for j in range(output_width):\n",
        "            for k in range(output_height):\n",
        "                window = input_array[k:k+kernel_array.shape[0], j:j+kernel_array.shape[1], i:i+kernel_array.shape[2]]\n",
        "                output_array[k, j, i] = np.sum(window * kernel_array)\n",
        "\n",
        "    return output_array"
      ],
      "metadata": {
        "id": "F3HA2ZIUkNkC"
      },
      "execution_count": 2,
      "outputs": []
    },
    {
      "cell_type": "markdown",
      "source": [
        "###Тест 1"
      ],
      "metadata": {
        "id": "_vk2sj0VlTA5"
      }
    },
    {
      "cell_type": "code",
      "source": [
        "input_a = np.random.rand(4, 4, 4)  #задание входного тензора\n",
        "kernel = np.random.rand(3, 3, 3)  #задание ядра свёртки\n",
        "#результат использования нашей функции Convolution3D\n",
        "test1_output1 = Convolution3D(input_a, kernel)\n",
        "print(\"Результат использования нашей функции Convolution3D в тесте 1:\")\n",
        "print(test1_output1)\n",
        "print(\"\\nРезультат использования функции Conv3d библиотеки PyTorch в тесте 1:\")\n",
        "#конвертация\n",
        "input_t = torch.tensor(input_a).unsqueeze(0).unsqueeze(0)\n",
        "kernel_t = torch.tensor(kernel).unsqueeze(0).unsqueeze(0)\n",
        "test1_output2 = F.conv3d(input_t, kernel_t)\n",
        "print(test1_output2)"
      ],
      "metadata": {
        "colab": {
          "base_uri": "https://localhost:8080/"
        },
        "id": "tNCeQ-vzlUme",
        "outputId": "36fdde84-3c6d-4c9f-f165-f46314cadcb9"
      },
      "execution_count": 3,
      "outputs": [
        {
          "output_type": "stream",
          "name": "stdout",
          "text": [
            "Результат использования нашей функции Convolution3D в тесте 1:\n",
            "[[[4.80956399 5.30309091]\n",
            "  [5.96827184 6.27249838]]\n",
            "\n",
            " [[6.27397798 5.7358089 ]\n",
            "  [7.55470718 6.01224294]]]\n",
            "\n",
            "Результат использования функции Conv3d библиотеки PyTorch в тесте 1:\n",
            "tensor([[[[[4.8096, 5.3031],\n",
            "           [5.9683, 6.2725]],\n",
            "\n",
            "          [[6.2740, 5.7358],\n",
            "           [7.5547, 6.0122]]]]], dtype=torch.float64)\n"
          ]
        }
      ]
    },
    {
      "cell_type": "markdown",
      "source": [
        "###Тест 2"
      ],
      "metadata": {
        "id": "INqbZ7idlU6c"
      }
    },
    {
      "cell_type": "code",
      "source": [
        "input_a = np.random.rand(4, 4, 4)  #задание входного тензора\n",
        "kernel = np.random.rand(3, 3, 3)  #задание ядра свёртки\n",
        "#результат использования нашей функции Convolution3D\n",
        "test2_output1 = Convolution3D(input_a, kernel)\n",
        "print(\"Результат использования нашей функции Convolution3D в тесте 2:\")\n",
        "print(test2_output1)\n",
        "print(\"\\nРезультат использования функции Conv3d библиотеки PyTorch в тесте 2:\")\n",
        "#конвертация\n",
        "input_t = torch.tensor(input_a).unsqueeze(0).unsqueeze(0)\n",
        "kernel_t = torch.tensor(kernel).unsqueeze(0).unsqueeze(0)\n",
        "test2_output2 = F.conv3d(input_t, kernel_t)\n",
        "print(test2_output2)"
      ],
      "metadata": {
        "colab": {
          "base_uri": "https://localhost:8080/"
        },
        "id": "fFZXUSKQlXiM",
        "outputId": "f3422fdf-4f7e-4a1c-f1eb-8bba37d6aac4"
      },
      "execution_count": 4,
      "outputs": [
        {
          "output_type": "stream",
          "name": "stdout",
          "text": [
            "Результат использования нашей функции Convolution3D в тесте 2:\n",
            "[[[6.88195148 7.47337293]\n",
            "  [6.66670129 5.33868912]]\n",
            "\n",
            " [[6.82040314 7.10497657]\n",
            "  [8.20091635 6.19890041]]]\n",
            "\n",
            "Результат использования функции Conv3d библиотеки PyTorch в тесте 2:\n",
            "tensor([[[[[6.8820, 7.4734],\n",
            "           [6.6667, 5.3387]],\n",
            "\n",
            "          [[6.8204, 7.1050],\n",
            "           [8.2009, 6.1989]]]]], dtype=torch.float64)\n"
          ]
        }
      ]
    },
    {
      "cell_type": "markdown",
      "source": [
        "###Тест 3"
      ],
      "metadata": {
        "id": "qbVDGgFolX2U"
      }
    },
    {
      "cell_type": "code",
      "source": [
        "input_a = np.random.rand(4, 4, 4)  #задание входного тензора\n",
        "kernel = np.random.rand(3, 3, 3)  #задание ядра свёртки\n",
        "#результат использования нашей функции Convolution3D\n",
        "test3_output1 = Convolution3D(input_a, kernel)\n",
        "print(\"Результат использования нашей функции Convolution3D в тесте 3:\")\n",
        "print(test3_output1)\n",
        "print(\"\\nРезультат использования функции Conv3d библиотеки PyTorch в тесте 3:\")\n",
        "#конвертация\n",
        "input_t = torch.tensor(input_a).unsqueeze(0).unsqueeze(0)\n",
        "kernel_t = torch.tensor(kernel).unsqueeze(0).unsqueeze(0)\n",
        "test3_output2 = F.conv3d(input_t, kernel_t)\n",
        "print(test3_output2)"
      ],
      "metadata": {
        "colab": {
          "base_uri": "https://localhost:8080/"
        },
        "id": "eTTUa3SyoQGX",
        "outputId": "9af4746f-2b8b-4b87-c6fb-de248ea0f02a"
      },
      "execution_count": 5,
      "outputs": [
        {
          "output_type": "stream",
          "name": "stdout",
          "text": [
            "Результат использования нашей функции Convolution3D в тесте 3:\n",
            "[[[8.12901015 7.73628009]\n",
            "  [7.80541158 7.65903759]]\n",
            "\n",
            " [[7.64712928 8.19699201]\n",
            "  [6.83279799 7.78094803]]]\n",
            "\n",
            "Результат использования функции Conv3d библиотеки PyTorch в тесте 3:\n",
            "tensor([[[[[8.1290, 7.7363],\n",
            "           [7.8054, 7.6590]],\n",
            "\n",
            "          [[7.6471, 8.1970],\n",
            "           [6.8328, 7.7809]]]]], dtype=torch.float64)\n"
          ]
        }
      ]
    }
  ]
}